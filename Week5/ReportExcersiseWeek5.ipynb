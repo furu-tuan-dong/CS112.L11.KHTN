{
  "nbformat": 4,
  "nbformat_minor": 0,
  "metadata": {
    "colab": {
      "name": "ReportExcersiseWeek5.ipynb",
      "provenance": [],
      "collapsed_sections": [],
      "authorship_tag": "ABX9TyMxj60sP/JYB5bcMi7o/vcA",
      "include_colab_link": true
    },
    "kernelspec": {
      "name": "python3",
      "display_name": "Python 3"
    }
  },
  "cells": [
    {
      "cell_type": "markdown",
      "metadata": {
        "id": "view-in-github",
        "colab_type": "text"
      },
      "source": [
        "<a href=\"https://colab.research.google.com/github/furu-tuan-dong/CS112.L11.KHTN/blob/master/Week5/ReportExcersiseWeek5.ipynb\" target=\"_parent\"><img src=\"https://colab.research.google.com/assets/colab-badge.svg\" alt=\"Open In Colab\"/></a>"
      ]
    },
    {
      "cell_type": "markdown",
      "metadata": {
        "id": "WAUBuVRFt8Qb"
      },
      "source": [
        "<h2 align=\"center\">CS112.L11.KHTN</h2>\n",
        "\n",
        "\n",
        "![image.png](data:image/png;base64,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)\n",
        "<h2 align=\"center\">Nhóm N002 - Phân tích và thiết kế thuật toán - Design and Analysic of Algorithms</h2>\n",
        "\n",
        "\n",
        "\n",
        "| <h3>  Họ và tên  |   <h3>    MSSV       |  <h3>Vai trò  |\n",
        "| :------------:|:-------------:|:-----:|\n",
        "| <h3>Nguyễn Phúc Đạt | <h3>18520573  | <h3> Trưởng nhóm    |\n",
        "| <h3>Đồng Quốc Tuấn  | <h3>18520185  | <h3>Thành viên |\n",
        "| <h3>Huỳnh Minh Trí  | <h3>18520176  | <h3>Thành viên |\n"
      ]
    },
    {
      "cell_type": "markdown",
      "metadata": {
        "id": "En5A7pXbt-c5"
      },
      "source": [
        "#***Bài tập 1***: Khóa số\n",
        "Để tăng độ an toàn chống hiện tượng cướp ngân hàng ngày càng phổ biến người ta dùng khóa số với mã mở khóa đơn giản nhưng rất hiệu quả. Trên cửa ra vào hiển thị một xâu khá dài các ký tự số. Các chữ số có thể di chuyển đổi chổ cho nhau hoặc bị xóa. Muốn mở khóa người ta phải di chuyển các chữ số và trong trường hợp cần thiết – xóa vài chữ số để nhận được xâu lớn nhất thỏa mãn điều kiện đã cài đặt. Điều kiện này được thay đổi thường xuyên. Hôm nay điều kiện đó là “Số nhận được phải chia hết cho 3”. Số nhận được có thể bắt đầu bằng các chữ số 0. Xâu “000” sẽ lớn hơn xâu “00”.\n",
        "\n",
        "Hãy xác định khóa mở cửa.\n",
        "\n",
        "Dữ liệu: Vào từ thiết bị nhập chuẩn gồm một xâu ký tự số có độ dài lớn hơn 2 và không vượt quá 105.\n",
        "\n",
        "Kết quả: Đưa ra thiết bị xuất chuẩn xâu khóa mở cửa.\n",
        "\n",
        "Ví dụ:\n",
        "\n",
        "|Input|Output|\n",
        "| :------------:|:-------------:|\n",
        "| 105| 510|\n"
      ]
    },
    {
      "cell_type": "markdown",
      "metadata": {
        "id": "FzQOoIhAu4MN"
      },
      "source": [
        "##***1.Abstraction***\n",
        "Cho xâu kí tự số $s$, đổi chỗ hoặc xóa các kí tự trong $s$ để được chuỗi mới lớn nhất chia hết cho 3 "
      ]
    },
    {
      "cell_type": "markdown",
      "metadata": {
        "id": "6sdML53WxI8i"
      },
      "source": [
        "##***2.Pattern Recognition***\n",
        "- Nếu s chia hết cho 3 => trả về s\n",
        "\n",
        "- Nếu s không chia hết cho 3, số dư là m:\n",
        "    - Xóa x sao cho x nhỏ nhất và chia cho 3 dư m\n",
        "    - Nếu không có những số này, ta tìm 2 số x, y nhỏ nhất thỏa:\n",
        "        - Nếu số dư là 1, x%3 = 2 và y%3 = 2\n",
        "        - Nếu số dư là 2, x%3 = 1 và y%3 = 1\n",
        "    - Xóa x, y khỏi s\n",
        "- Kết quả là chuỗi s đã được sắp xếp theo thứ tự giảm dần\n",
        "\n",
        "Ví dụ: \n",
        " - $s = 123456$ chia hết cho $3$ => sắp xếp $s$ giảm dần => kết quả = $654321$\n",
        " - $s = 1234567$ chia $3$ dư $1$ => xóa $1$ => sắp xếp $s$ giảm dần => kết quả = $765432$\n",
        " - $s = 35678$ chia $3$ dư $2$ => không có $2$ trong s =>  xóa $8$ vì $8$ nhỏ nhất và chia cho 3 dư 2 => sắp xếp s giảm dần => kết quả = 7653\n",
        " - $s = 9671$ chia $3$ dư $2$ => không có số nào chia $3$ dư $2$ trong $s$ => xóa $1$ và $6$ vì cả 2 nhỏ nhất và chia $3$ dư $1$ => sắp xếp $s$ giảm dần => kết quả = $96$\n"
      ]
    },
    {
      "cell_type": "markdown",
      "metadata": {
        "id": "KXapBrhr0XQo"
      },
      "source": [
        "##***3.Algorithm Design***\n",
        "```\n",
        "if s modulo 3 != 0:\n",
        "    mod = s modulo 3\n",
        "    if mod in s:\n",
        "        remove mod from s\n",
        "    else:\n",
        "        find x, y such that x + y = (mod*2) modulo 3\n",
        "        remove x, y from s\n",
        "sort s decending\n",
        "return s\n",
        "\n",
        "```\n",
        "\n"
      ]
    },
    {
      "cell_type": "markdown",
      "metadata": {
        "id": "jSVHpBdJ-FtH"
      },
      "source": [
        "##***4.Programming***\n"
      ]
    },
    {
      "cell_type": "code",
      "metadata": {
        "id": "TAoH9ltF-OkH",
        "outputId": "52dc40fd-c00b-4f3e-bb99-57bfda36e954",
        "colab": {
          "base_uri": "https://localhost:8080/",
          "height": 51
        }
      },
      "source": [
        "def find_index_divisible_x(arr, x):\n",
        "    if str(x) in arr:\n",
        "        return arr.index(str(x))\n",
        "    elif str(x + 3) in arr:\n",
        "        return arr.index(str(x + 3))\n",
        "    elif str(x + 6) in arr:\n",
        "        return arr.index(str(x + 6))\n",
        "    else:\n",
        "        return -1\n",
        "\n",
        "def find_2_index_divisible_x(arr, x):\n",
        "    index_1 = find_index_divisible_x(arr, x)\n",
        "    index_2 = find_index_divisible_x(arr[index_1+1:], x) + index_1 + 1\n",
        "    return index_1, index_2\n",
        "\n",
        "if __name__ == \"__main__\":\n",
        "    s = input()\n",
        "    int_s = int(s)\n",
        "    list_s = list(s)\n",
        "    list_s.sort()\n",
        "    if int_s % 3 == 0:\n",
        "        list_s.reverse()\n",
        "        print(''.join(list_s))\n",
        "        exit()\n",
        "    else:\n",
        "        mod = int(int_s % 3)\n",
        "        index = find_index_divisible_x(list_s, mod)\n",
        "        if index == -1:\n",
        "            x, y = find_2_index_divisible_x(list_s, (mod * 2) % 3)\n",
        "            if x != -1 and y != -1:\n",
        "                list_s.remove(list_s[x])\n",
        "                list_s.remove(list_s[y - 1])\n",
        "                list_s.reverse()\n",
        "\n",
        "                if len(list_s) == 1:\n",
        "                    print(str(list_s[0]))\n",
        "                else:\n",
        "                    print(''.join(list_s))\n",
        "        else:\n",
        "            list_s.remove(list_s[index])\n",
        "            list_s.reverse()\n",
        "            print(''.join(list_s))"
      ],
      "execution_count": null,
      "outputs": [
        {
          "output_type": "stream",
          "text": [
            "9671\n",
            "96\n"
          ],
          "name": "stdout"
        }
      ]
    },
    {
      "cell_type": "markdown",
      "metadata": {
        "id": "zJFFsdoz-pIV"
      },
      "source": [
        "##***5. Kết quả Wecode***\n",
        "![Screenshot from 2020-10-14 09-40-23.png](data:image/png;base64,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)\n"
      ]
    }
  ]
}