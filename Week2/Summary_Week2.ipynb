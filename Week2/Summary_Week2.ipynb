{
  "nbformat": 4,
  "nbformat_minor": 0,
  "metadata": {
    "colab": {
      "name": "Summary_Week2.ipynb",
      "provenance": [],
      "collapsed_sections": [],
      "authorship_tag": "ABX9TyP64fWuPyldPzO6hbHm9UXx",
      "include_colab_link": true
    },
    "kernelspec": {
      "name": "python3",
      "display_name": "Python 3"
    }
  },
  "cells": [
    {
      "cell_type": "markdown",
      "metadata": {
        "id": "view-in-github",
        "colab_type": "text"
      },
      "source": [
        "<a href=\"https://colab.research.google.com/github/furu-tuan-dong/CS112.L11.KHTN/blob/master/Week2/Summary_Week2.ipynb\" target=\"_parent\"><img src=\"https://colab.research.google.com/assets/colab-badge.svg\" alt=\"Open In Colab\"/></a>"
      ]
    },
    {
      "cell_type": "markdown",
      "metadata": {
        "id": "YuDbGMJky98Z"
      },
      "source": [
        "# TÓM TẮT\n",
        "* Xem bài làm BOT của các nhóm, thầy nhận xét và rút kinh nghiệm\n",
        "* Các nhóm chọn đề tài seminar\n",
        "* Khảo sát bài toán Tảo biển và Đếm sao\n",
        "* Hướng dẫn cách làm việc nhóm trong các cuộc thi lập trình\n",
        "* Cách làm bài Đếm sao: cách xoay hệ trục tọa độ, làm thế nào để xác định điểm nằm trong góc tạo bởi 2 tia\n",
        "* Tìm hiểu về test, cách tạo test, những kinh nghiệm khi tạo test"
      ]
    }
  ]
}