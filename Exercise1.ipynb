{
  "nbformat": 4,
  "nbformat_minor": 0,
  "metadata": {
    "colab": {
      "name": "Exercise1.ipynb",
      "provenance": []
    },
    "kernelspec": {
      "name": "python3",
      "display_name": "Python 3"
    }
  },
  "cells": [
    {
      "cell_type": "markdown",
      "metadata": {
        "id": "GAqunAMNMreg",
        "colab_type": "text"
      },
      "source": [
        "\n",
        "\n",
        "##**Abstraction:**  Tìm đoạn con [p,q] lớn nhất của mảng A cho trước sao cho tổng phần tử lớn nhất.\n",
        "##**Pattern Recognition:** Quy hoạch động\n",
        "##**Algorithm designed:** \n",
        "Initialize:\n",
        "> ```\n",
        ">  maxGlobal = maxCurrent = 0\n",
        "   start = end = s = 0\n",
        ">  ```\n",
        "\n",
        "Loop for each element of the array:\n",
        "> ```\n",
        "   maxCurrent = maxCurrent + A[i]\n",
        "   if (maxCurrent > maxGlobal)\n",
        "      maxGlobal = maxCurrent\n",
        "      start = s \n",
        "      end = i\n",
        "   if (maxCurrent < 0)\n",
        "      maxCurrent = 0\n",
        "      s = i+1\n",
        ">  ```\n",
        "\n",
        "Return: [start,end,maxGlobal]\n",
        "\n",
        "\n",
        "---\n",
        "\n",
        "\n",
        "##**Programming:** \n",
        "\n",
        "\n",
        "\n",
        "\n"
      ]
    },
    {
      "cell_type": "code",
      "metadata": {
        "id": "xhZ3OCkpP59S",
        "colab_type": "code",
        "colab": {
          "base_uri": "https://localhost:8080/",
          "height": 68
        },
        "outputId": "05fa98df-c90e-423b-9062-0b563ca8349a"
      },
      "source": [
        "def maxSubArraySum(a): \n",
        "  size = len(a)\n",
        "  maxGlobal = - 1\n",
        "  maxCurrent = 0\n",
        "  start = 0\n",
        "  end = 0\n",
        "  s = 0\n",
        "  \n",
        "  for i in range(0,size):   \n",
        "    a[i] = int(a[i])\n",
        "    maxCurrent += a[i] \n",
        "\n",
        "    if maxGlobal < maxCurrent:\n",
        "      maxGlobal = maxCurrent \n",
        "      start = s \n",
        "      end = i \n",
        "\n",
        "    if maxCurrent < 0:\n",
        "      maxCurrent = 0\n",
        "      s = i+1\n",
        "  return (start+1, end+1, maxGlobal)\n",
        "\n",
        "#Start input\n",
        "n = int(input())\n",
        "\n",
        "a = []\n",
        "a = input().split(\" \")\n",
        "#Output\n",
        "(p,q,r) = maxSubArraySum(a)\n",
        "print(p,q,r)"
      ],
      "execution_count": 2,
      "outputs": [
        {
          "output_type": "stream",
          "text": [
            "16\n",
            "2 -4 5 -8 4 -1 -1 1 1 1 -2 2 4 -6 9 -4\n",
            "5 15 12\n"
          ],
          "name": "stdout"
        }
      ]
    }
  ]
}