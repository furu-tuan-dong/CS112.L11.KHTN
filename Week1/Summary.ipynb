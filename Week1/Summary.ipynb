{
  "nbformat": 4,
  "nbformat_minor": 0,
  "metadata": {
    "colab": {
      "name": "Tóm tắt buổi 1.ipynb",
      "provenance": []
    },
    "kernelspec": {
      "name": "python3",
      "display_name": "Python 3"
    }
  },
  "cells": [
    {
      "cell_type": "markdown",
      "metadata": {
        "id": "E0RM7dang38I",
        "colab_type": "text"
      },
      "source": [
        "# **Tóm tắt buổi 1**"
      ]
    },
    {
      "cell_type": "markdown",
      "metadata": {
        "id": "F1e1OGhtgu_m",
        "colab_type": "text"
      },
      "source": [
        "- Giới thiệu Computional Thinking: \n",
        "  + Abstract \n",
        "  + Decomposition \n",
        "  + Pattern recognition \n",
        "  + Algorithms.\n",
        "- Phân tích và thực hiện hóa bài toán tìm dãy con có tổng lớn nhất trong mảng n phần tử.\n",
        "- Mời sinh viên lên nêu ý tưởng thuật toán và thảo luận.\n",
        "- Giải đáp thắc mắc về các vấn đề liên quan đến trong và ngoài môn học:  \n",
        "  + Môn này sẽ giúp ích gì cho công việc nghiên cứu, công việc sau này?\n",
        "  + Hướng nghiệp sinh viên"
      ]
    }
  ]
}